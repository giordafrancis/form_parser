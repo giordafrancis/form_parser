{
 "cells": [
  {
   "cell_type": "markdown",
   "metadata": {},
   "source": [
    "Extract fields to csv file for data review\n",
    "\n",
    "\n",
    "- parse email .msg files body\n",
    "- parse email subject\n",
    "- compile regex for all email dta features\n",
    "- add groups to named tuple to match features\n",
    "- append to one list of named tuples\n",
    "- write final csv"
   ]
  },
  {
   "cell_type": "code",
   "execution_count": 28,
   "metadata": {},
   "outputs": [],
   "source": [
    "import extract_msg # for msg parsing\n",
    "import re\n",
    "from pathlib import Path\n",
    "from typing import NamedTuple, TypeVar\n",
    "from collections import namedtuple"
   ]
  },
  {
   "cell_type": "code",
   "execution_count": 29,
   "metadata": {},
   "outputs": [],
   "source": [
    "# named tuple email data container\n",
    "class EmailData(NamedTuple):\n",
    "    ref_num: int\n",
    "    phone_num: int\n",
    "    first_name: str\n",
    "    last_name: str\n",
    "    address:str\n",
    "    email: str"
   ]
  },
  {
   "cell_type": "code",
   "execution_count": 30,
   "metadata": {},
   "outputs": [],
   "source": [
    "# Create one regex per feature\n",
    "# TODO improve regex\n",
    "\n",
    "def _ref_num(email: str, subject: str) -> TypeVar:\n",
    "    \"\"\"\n",
    "    Returns ref numer if found else settles for email suject\n",
    "    \"\"\"\n",
    "    patt = re.search(r\" number:(?P<ref_number>.*)\\n\", email)\n",
    "    \n",
    "    if patt:\n",
    "        return patt.group(1)\n",
    "    else:\n",
    "        return subject\n",
    "\n",
    "def _phone(email: str) -> TypeVar:\n",
    "    patt = re.search(r\"Telephone:(?P<phone>.*)\\n\", email)\n",
    "\n",
    "    if patt:\n",
    "        return patt.group(1)\n",
    "    else:\n",
    "        return \"n/a\"\n",
    "      \n",
    "def _first_name(email: str) -> TypeVar:\n",
    "    patt = re.search(r\"First name:(?P<f_name>.*)\\n\", email)\n",
    "\n",
    "    if patt:\n",
    "        return patt.group(1)\n",
    "    else:\n",
    "        return \"n/a\"\n",
    "\n",
    "def _last_name(email: str) -> TypeVar:\n",
    "    patt = re.search(r\"Last name:(?P<l_name>.*)\\n\", email)\n",
    "\n",
    "    if patt:\n",
    "        return patt.group(1)\n",
    "    else:\n",
    "        return \"n/a\"\n",
    "\n",
    "def _address(email: str) -> TypeVar:\n",
    "    patt = re.search(r\"Address:(?P<address>.*)\\n\", email)\n",
    "\n",
    "    if patt:\n",
    "        return patt.group(1)\n",
    "    else:\n",
    "        return \"n/a\"\n",
    "\n",
    "def _email(email: str) -> TypeVar:\n",
    "    patt = re.search(r\"Email:(?P<email>.*)\\n\", email)\n",
    "\n",
    "    if patt:\n",
    "        return patt.group(1).strip(r\"\\r\")\n",
    "    else:\n",
    "        return \"n/a\"\n",
    "    \n",
    "def email_regex(email: str, subject: str) -> NamedTuple:\n",
    "    \"\"\"parse email and return email_data named tuple\n",
    "    subject parameter only applies to _ref_num parsing\"\"\"\n",
    "\n",
    "    return EmailData(_ref_num(email, subject), \n",
    "                     _phone(email),\n",
    "                     _first_name(email),\n",
    "                     _last_name(email),\n",
    "                     _address(email), \n",
    "                     _email(email))"
   ]
  },
  {
   "cell_type": "code",
   "execution_count": 31,
   "metadata": {},
   "outputs": [],
   "source": [
    "# extract emails paths and create generator\n",
    "emails  = Path(r\"emails_test/\").glob(\"*.msg\")\n",
    "\n",
    "# add one EmailData container with features per email\n",
    "emails_data = []\n",
    "for email_path in emails:\n",
    "    with extract_msg.Message(email_path) as msg:\n",
    "        msg_body = msg.body\n",
    "        msg_subject = msg.subject\n",
    "        emails_data.append(email_regex(msg_body, msg_subject))"
   ]
  },
  {
   "cell_type": "code",
   "execution_count": 32,
   "metadata": {},
   "outputs": [],
   "source": [
    "def strip_string(feature: str) -> str:\n",
    "    \"\"\"Cleans whitespaces and return characters from email features\"\"\"\n",
    "    return feature.strip(\"\\r\").strip(\"\\n\").strip()"
   ]
  },
  {
   "cell_type": "code",
   "execution_count": null,
   "metadata": {},
   "outputs": [],
   "source": []
  },
  {
   "cell_type": "code",
   "execution_count": 33,
   "metadata": {},
   "outputs": [],
   "source": [
    "import csv\n",
    "\n",
    "with open('test_email_data.csv', 'w') as f:\n",
    "    csv_writer = csv.writer(f, delimiter=',')\n",
    "    headers = ['ref_number','phone_num','first_name', 'last_name', 'address', 'email']\n",
    "    csv_writer.writerow(headers)\n",
    "    for email in emails_data:\n",
    "        features = [strip_string(feature) for feature in email]\n",
    "        csv_writer.writerow(features)"
   ]
  }
 ],
 "metadata": {
  "jupytext": {
   "formats": "ipynb,py:light"
  },
  "kernelspec": {
   "display_name": "Python 3",
   "language": "python",
   "name": "python3"
  },
  "language_info": {
   "codemirror_mode": {
    "name": "ipython",
    "version": 3
   },
   "file_extension": ".py",
   "mimetype": "text/x-python",
   "name": "python",
   "nbconvert_exporter": "python",
   "pygments_lexer": "ipython3",
   "version": "3.7.3"
  }
 },
 "nbformat": 4,
 "nbformat_minor": 4
}
